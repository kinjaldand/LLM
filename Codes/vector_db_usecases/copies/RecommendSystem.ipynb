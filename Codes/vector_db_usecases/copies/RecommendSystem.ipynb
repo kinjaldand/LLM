{
 "cells": [
  {
   "cell_type": "code",
   "execution_count": 1,
   "id": "d0fed0c7",
   "metadata": {},
   "outputs": [],
   "source": [
    "import warnings\n",
    "warnings.filterwarnings('ignore')"
   ]
  },
  {
   "cell_type": "code",
   "execution_count": 2,
   "id": "70b7bd52",
   "metadata": {},
   "outputs": [],
   "source": [
    "from langchain.text_splitter import RecursiveCharacterTextSplitter\n",
    "from openai import OpenAI\n",
    "from pinecone import Pinecone, ServerlessSpec\n",
    "from tqdm.auto import tqdm, trange\n",
    "from DLAIUtils import Utils\n",
    "\n",
    "import pandas as pd\n",
    "import time\n",
    "import os"
   ]
  },
  {
   "cell_type": "code",
   "execution_count": 3,
   "id": "e2a49e38",
   "metadata": {},
   "outputs": [],
   "source": [
    "utils = Utils()\n",
    "PINECONE_API_KEY = utils.get_pinecone_api_key()\n",
    "OPENAI_API_KEY = utils.get_openai_api_key()"
   ]
  },
  {
   "cell_type": "code",
   "execution_count": null,
   "id": "f30c276d",
   "metadata": {},
   "outputs": [],
   "source": [
    "with open('./data/all-the-news-3.csv', 'r') as f:\n",
    "    header = f.readline()\n",
    "    print(header)"
   ]
  },
  {
   "cell_type": "code",
   "execution_count": null,
   "id": "a7beeed3",
   "metadata": {},
   "outputs": [],
   "source": [
    "df = pd.read_csv('./data/all-the-news-3.csv', nrows=99)\n",
    "df.head()"
   ]
  },
  {
   "cell_type": "code",
   "execution_count": null,
   "id": "4a569caf",
   "metadata": {},
   "outputs": [],
   "source": [
    "openai_client = OpenAI(api_key=OPENAI_API_KEY)\n",
    "util = Utils()\n",
    "INDEX_NAME = utils.create_dlai_index_name('dl-ai')\n",
    "pinecone = Pinecone(api_key=PINECONE_API_KEY)\n",
    "\n",
    "if INDEX_NAME in [index.name for index in pinecone.list_indexes()]:\n",
    "  pinecone.delete_index(INDEX_NAME)\n",
    "\n",
    "pinecone.create_index(name=INDEX_NAME, dimension=1536, metric='cosine',\n",
    "  spec=ServerlessSpec(cloud='aws', region='us-west-2'))\n",
    "\n",
    "index = pinecone.Index(INDEX_NAME)"
   ]
  },
  {
   "cell_type": "code",
   "execution_count": null,
   "id": "b9787467",
   "metadata": {},
   "outputs": [],
   "source": [
    "def get_embeddings(articles, model=\"text-embedding-ada-002\"):\n",
    "   return openai_client.embeddings.create(input = articles, model=model)"
   ]
  },
  {
   "cell_type": "code",
   "execution_count": null,
   "id": "bf35150a",
   "metadata": {},
   "outputs": [],
   "source": [
    "CHUNK_SIZE=400\n",
    "TOTAL_ROWS=10000\n",
    "progress_bar = tqdm(total=TOTAL_ROWS)\n",
    "chunks = pd.read_csv('./data/all-the-news-3.csv', chunksize=CHUNK_SIZE, \n",
    "                     nrows=TOTAL_ROWS)\n",
    "chunk_num = 0\n",
    "for chunk in chunks:\n",
    "    titles = chunk['title'].tolist()\n",
    "    embeddings = get_embeddings(titles)\n",
    "    prepped = [{'id':str(chunk_num*CHUNK_SIZE+i), 'values':embeddings.data[i].embedding,\n",
    "                'metadata':{'title':titles[i]},} for i in range(0,len(titles))]\n",
    "    chunk_num = chunk_num + 1\n",
    "    if len(prepped) >= 200:\n",
    "      index.upsert(prepped)\n",
    "      prepped = []\n",
    "    progress_bar.update(len(chunk))"
   ]
  },
  {
   "cell_type": "code",
   "execution_count": null,
   "id": "67baedae",
   "metadata": {},
   "outputs": [],
   "source": [
    "index.describe_index_stats()"
   ]
  },
  {
   "cell_type": "code",
   "execution_count": null,
   "id": "79e7b9bb",
   "metadata": {},
   "outputs": [],
   "source": [
    "def get_recommendations(pinecone_index, search_term, top_k=10):\n",
    "  embed = get_embeddings([search_term]).data[0].embedding\n",
    "  res = pinecone_index.query(vector=embed, top_k=top_k, include_metadata=True)\n",
    "  return res"
   ]
  },
  {
   "cell_type": "code",
   "execution_count": null,
   "id": "0559429a",
   "metadata": {},
   "outputs": [],
   "source": [
    "reco = get_recommendations(index, 'obama')\n",
    "for r in reco.matches:\n",
    "    print(f'{r.score} : {r.metadata[\"title\"]}')"
   ]
  },
  {
   "cell_type": "code",
   "execution_count": null,
   "id": "8e4f2564",
   "metadata": {},
   "outputs": [],
   "source": [
    "if INDEX_NAME in [index.name for index in pinecone.list_indexes()]:\n",
    "  pinecone.delete_index(name=INDEX_NAME)\n",
    "\n",
    "pinecone.create_index(name=INDEX_NAME, dimension=1536, metric='cosine',\n",
    "  spec=ServerlessSpec(cloud='aws', region='us-west-2'))\n",
    "articles_index = pinecone.Index(INDEX_NAME)"
   ]
  },
  {
   "cell_type": "code",
   "execution_count": null,
   "id": "9b07a337",
   "metadata": {},
   "outputs": [],
   "source": [
    "def embed(embeddings, title, prepped, embed_num):\n",
    "  for embedding in embeddings.data:\n",
    "    prepped.append({'id':str(embed_num), 'values':embedding.embedding, 'metadata':{'title':title}})\n",
    "    embed_num += 1\n",
    "    if len(prepped) >= 100:\n",
    "        articles_index.upsert(prepped)\n",
    "        prepped.clear()\n",
    "  return embed_num"
   ]
  },
  {
   "cell_type": "code",
   "execution_count": null,
   "id": "867c9334",
   "metadata": {},
   "outputs": [],
   "source": [
    "news_data_rows_num = 100\n",
    "\n",
    "embed_num = 0 #keep track of embedding number for 'id'\n",
    "text_splitter = RecursiveCharacterTextSplitter(chunk_size=400, \n",
    "    chunk_overlap=20) # how to chunk each article\n",
    "prepped = []\n",
    "df = pd.read_csv('./data/all-the-news-3.csv', nrows=news_data_rows_num)\n",
    "articles_list = df['article'].tolist()\n",
    "titles_list = df['title'].tolist()\n",
    "\n",
    "for i in range(0, len(articles_list)):\n",
    "    print(\".\",end=\"\")\n",
    "    art = articles_list[i]\n",
    "    title = titles_list[i]\n",
    "    if art is not None and isinstance(art, str):\n",
    "      texts = text_splitter.split_text(art)\n",
    "      embeddings = get_embeddings(texts)\n",
    "      embed_num = embed(embeddings, title, prepped, embed_num)"
   ]
  },
  {
   "cell_type": "code",
   "execution_count": null,
   "id": "2959c0cf",
   "metadata": {},
   "outputs": [],
   "source": [
    "articles_index.describe_index_stats()"
   ]
  },
  {
   "cell_type": "code",
   "execution_count": null,
   "id": "d188ab5b",
   "metadata": {},
   "outputs": [],
   "source": [
    "reco = get_recommendations(articles_index, 'obama', top_k=100)\n",
    "seen = {}\n",
    "for r in reco.matches:\n",
    "    title = r.metadata['title']\n",
    "    if title not in seen:\n",
    "        print(f'{r.score} : {title}')\n",
    "        seen[title] = '.'"
   ]
  }
 ],
 "metadata": {
  "kernelspec": {
   "display_name": "vector_db_env2",
   "language": "python",
   "name": "vector_db_env"
  },
  "language_info": {
   "codemirror_mode": {
    "name": "ipython",
    "version": 3
   },
   "file_extension": ".py",
   "mimetype": "text/x-python",
   "name": "python",
   "nbconvert_exporter": "python",
   "pygments_lexer": "ipython3",
   "version": "3.10.13"
  }
 },
 "nbformat": 4,
 "nbformat_minor": 5
}
